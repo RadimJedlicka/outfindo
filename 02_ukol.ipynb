{
 "cells": [
  {
   "cell_type": "markdown",
   "id": "34959279",
   "metadata": {},
   "source": [
    "### Druhý úkol\n",
    "bude pro prodejce normalizovat hodnotu pole `telephone`, tak že formát bude obsahovat mezinárodní předčíslí např. pro francouzské telefonní čísla +33 tj. pro číslo 777 681 550 bude výsledek +33 777681550."
   ]
  },
  {
   "cell_type": "code",
   "execution_count": 144,
   "id": "24d7d94b",
   "metadata": {},
   "outputs": [],
   "source": [
    "import pandas as pd\n",
    "from typing import Dict, Union"
   ]
  },
  {
   "cell_type": "markdown",
   "id": "0d953ea9",
   "metadata": {},
   "source": [
    "Reading csv file and store it as pandas dataframe"
   ]
  },
  {
   "cell_type": "code",
   "execution_count": 135,
   "id": "f2c47cca",
   "metadata": {},
   "outputs": [],
   "source": [
    "df = pd.read_csv('dealers.csv')"
   ]
  },
  {
   "cell_type": "markdown",
   "id": "82c30b0b",
   "metadata": {},
   "source": [
    "Cast `telephone` column to a string type"
   ]
  },
  {
   "cell_type": "code",
   "execution_count": 141,
   "id": "1d71fbaf",
   "metadata": {},
   "outputs": [],
   "source": [
    "df['telephone'] = df['telephone'].astype('str') "
   ]
  },
  {
   "cell_type": "markdown",
   "id": "80895739",
   "metadata": {},
   "source": [
    "Creating subdataframe just with `country` and `telephone` columns"
   ]
  },
  {
   "cell_type": "code",
   "execution_count": 139,
   "id": "69cb8a4b",
   "metadata": {
    "collapsed": true
   },
   "outputs": [
    {
     "data": {
      "text/html": [
       "<div>\n",
       "<style scoped>\n",
       "    .dataframe tbody tr th:only-of-type {\n",
       "        vertical-align: middle;\n",
       "    }\n",
       "\n",
       "    .dataframe tbody tr th {\n",
       "        vertical-align: top;\n",
       "    }\n",
       "\n",
       "    .dataframe thead th {\n",
       "        text-align: right;\n",
       "    }\n",
       "</style>\n",
       "<table border=\"1\" class=\"dataframe\">\n",
       "  <thead>\n",
       "    <tr style=\"text-align: right;\">\n",
       "      <th></th>\n",
       "      <th>country</th>\n",
       "      <th>telephone</th>\n",
       "    </tr>\n",
       "  </thead>\n",
       "  <tbody>\n",
       "    <tr>\n",
       "      <th>0</th>\n",
       "      <td>France</td>\n",
       "      <td>466361627</td>\n",
       "    </tr>\n",
       "    <tr>\n",
       "      <th>1</th>\n",
       "      <td>Italy</td>\n",
       "      <td>+39070240537</td>\n",
       "    </tr>\n",
       "    <tr>\n",
       "      <th>2</th>\n",
       "      <td>France</td>\n",
       "      <td>+33297331790</td>\n",
       "    </tr>\n",
       "    <tr>\n",
       "      <th>3</th>\n",
       "      <td>France</td>\n",
       "      <td>+330298425857</td>\n",
       "    </tr>\n",
       "    <tr>\n",
       "      <th>4</th>\n",
       "      <td>France</td>\n",
       "      <td>04.67.98.12.90</td>\n",
       "    </tr>\n",
       "    <tr>\n",
       "      <th>...</th>\n",
       "      <td>...</td>\n",
       "      <td>...</td>\n",
       "    </tr>\n",
       "    <tr>\n",
       "      <th>3791</th>\n",
       "      <td>Italy</td>\n",
       "      <td>tel:0923581766</td>\n",
       "    </tr>\n",
       "    <tr>\n",
       "      <th>3792</th>\n",
       "      <td>France</td>\n",
       "      <td>tel:+33422138244</td>\n",
       "    </tr>\n",
       "    <tr>\n",
       "      <th>3793</th>\n",
       "      <td>Italy</td>\n",
       "      <td>07768636723314957140</td>\n",
       "    </tr>\n",
       "    <tr>\n",
       "      <th>3794</th>\n",
       "      <td>Italy</td>\n",
       "      <td>436862467</td>\n",
       "    </tr>\n",
       "    <tr>\n",
       "      <th>3795</th>\n",
       "      <td>France</td>\n",
       "      <td>+330321354367</td>\n",
       "    </tr>\n",
       "  </tbody>\n",
       "</table>\n",
       "<p>3796 rows × 2 columns</p>\n",
       "</div>"
      ],
      "text/plain": [
       "     country             telephone\n",
       "0     France             466361627\n",
       "1      Italy          +39070240537\n",
       "2     France          +33297331790\n",
       "3     France         +330298425857\n",
       "4     France        04.67.98.12.90\n",
       "...      ...                   ...\n",
       "3791   Italy        tel:0923581766\n",
       "3792  France      tel:+33422138244\n",
       "3793   Italy  07768636723314957140\n",
       "3794   Italy             436862467\n",
       "3795  France         +330321354367\n",
       "\n",
       "[3796 rows x 2 columns]"
      ]
     },
     "execution_count": 139,
     "metadata": {},
     "output_type": "execute_result"
    }
   ],
   "source": [
    "df_tel = df[['country', 'telephone']]\n",
    "# df_tel"
   ]
  },
  {
   "cell_type": "markdown",
   "id": "b29349dc",
   "metadata": {},
   "source": [
    "Dictionary with countries and country codes"
   ]
  },
  {
   "cell_type": "code",
   "execution_count": 142,
   "id": "9e6b7fc4",
   "metadata": {},
   "outputs": [],
   "source": [
    "country_codes = {\n",
    "    'Italy': '+39',\n",
    "    'France': '+33'\n",
    "    # add more countries\n",
    "    # and their codes\n",
    "}"
   ]
  },
  {
   "cell_type": "code",
   "execution_count": 145,
   "id": "8bf77a52",
   "metadata": {
    "collapsed": true
   },
   "outputs": [
    {
     "name": "stderr",
     "output_type": "stream",
     "text": [
      "C:\\Users\\Radim Jedlicka\\AppData\\Local\\Temp/ipykernel_23472/2082847931.py:35: SettingWithCopyWarning: \n",
      "A value is trying to be set on a copy of a slice from a DataFrame.\n",
      "Try using .loc[row_indexer,col_indexer] = value instead\n",
      "\n",
      "See the caveats in the documentation: https://pandas.pydata.org/pandas-docs/stable/user_guide/indexing.html#returning-a-view-versus-a-copy\n",
      "  df_tel['telephone'] = df_tel.apply(normalize_phone_number, args=(country_codes,), axis=1)\n"
     ]
    },
    {
     "data": {
      "text/html": [
       "<div>\n",
       "<style scoped>\n",
       "    .dataframe tbody tr th:only-of-type {\n",
       "        vertical-align: middle;\n",
       "    }\n",
       "\n",
       "    .dataframe tbody tr th {\n",
       "        vertical-align: top;\n",
       "    }\n",
       "\n",
       "    .dataframe thead th {\n",
       "        text-align: right;\n",
       "    }\n",
       "</style>\n",
       "<table border=\"1\" class=\"dataframe\">\n",
       "  <thead>\n",
       "    <tr style=\"text-align: right;\">\n",
       "      <th></th>\n",
       "      <th>country</th>\n",
       "      <th>telephone</th>\n",
       "    </tr>\n",
       "  </thead>\n",
       "  <tbody>\n",
       "    <tr>\n",
       "      <th>0</th>\n",
       "      <td>France</td>\n",
       "      <td>+33 466361627</td>\n",
       "    </tr>\n",
       "    <tr>\n",
       "      <th>1</th>\n",
       "      <td>Italy</td>\n",
       "      <td>+39 070240537</td>\n",
       "    </tr>\n",
       "    <tr>\n",
       "      <th>2</th>\n",
       "      <td>France</td>\n",
       "      <td>+33 297331790</td>\n",
       "    </tr>\n",
       "    <tr>\n",
       "      <th>3</th>\n",
       "      <td>France</td>\n",
       "      <td>+33 0298425857</td>\n",
       "    </tr>\n",
       "    <tr>\n",
       "      <th>4</th>\n",
       "      <td>France</td>\n",
       "      <td>+33 0467981290</td>\n",
       "    </tr>\n",
       "    <tr>\n",
       "      <th>...</th>\n",
       "      <td>...</td>\n",
       "      <td>...</td>\n",
       "    </tr>\n",
       "    <tr>\n",
       "      <th>3791</th>\n",
       "      <td>Italy</td>\n",
       "      <td>+39 0923581766</td>\n",
       "    </tr>\n",
       "    <tr>\n",
       "      <th>3792</th>\n",
       "      <td>France</td>\n",
       "      <td>+33 422138244</td>\n",
       "    </tr>\n",
       "    <tr>\n",
       "      <th>3793</th>\n",
       "      <td>Italy</td>\n",
       "      <td>+39 07768636723314957140</td>\n",
       "    </tr>\n",
       "    <tr>\n",
       "      <th>3794</th>\n",
       "      <td>Italy</td>\n",
       "      <td>+39 436862467</td>\n",
       "    </tr>\n",
       "    <tr>\n",
       "      <th>3795</th>\n",
       "      <td>France</td>\n",
       "      <td>+33 0321354367</td>\n",
       "    </tr>\n",
       "  </tbody>\n",
       "</table>\n",
       "<p>3796 rows × 2 columns</p>\n",
       "</div>"
      ],
      "text/plain": [
       "     country                 telephone\n",
       "0     France             +33 466361627\n",
       "1      Italy             +39 070240537\n",
       "2     France             +33 297331790\n",
       "3     France            +33 0298425857\n",
       "4     France            +33 0467981290\n",
       "...      ...                       ...\n",
       "3791   Italy            +39 0923581766\n",
       "3792  France             +33 422138244\n",
       "3793   Italy  +39 07768636723314957140\n",
       "3794   Italy             +39 436862467\n",
       "3795  France            +33 0321354367\n",
       "\n",
       "[3796 rows x 2 columns]"
      ]
     },
     "execution_count": 145,
     "metadata": {},
     "output_type": "execute_result"
    }
   ],
   "source": [
    "def normalize_phone_number(row: pd.Series, country_codes: Dict[str, str]) -> Union[str, pd.Series]:\n",
    "    \"\"\"\n",
    "    Normalize the phone number in a DataFrame row \n",
    "    based on the country code dictionary.\n",
    "\n",
    "    Args:\n",
    "        row (pd.Series): A row from the DataFrame \n",
    "        containing the 'country' and 'telephone' columns.\n",
    "        \n",
    "        country_codes (Dict[str, str]): A dictionary mapping \n",
    "        country names to their respective country codes.\n",
    "\n",
    "    Returns:\n",
    "        Union[str, pd.Series]: The normalized phone number, \n",
    "        including the international prefix if applicable, \n",
    "        or the original phone number if the country \n",
    "        is not found in the country codes dictionary.\n",
    "    \"\"\"\n",
    "    \n",
    "    country = row['country']\n",
    "    \n",
    "    if country in country_codes:\n",
    "        country_code = country_codes[country]\n",
    "        normalized_number = ''.join(filter(str.isdigit, row['telephone']))\n",
    "        \n",
    "        if normalized_number.startswith(country_code.strip('+')):\n",
    "            return f\"+{normalized_number[:2]} {normalized_number[2:]}\"\n",
    "        \n",
    "        normalized_number = f\"{country_code} {normalized_number}\"\n",
    "        return normalized_number\n",
    "    \n",
    "    else:\n",
    "        return row['telephone']\n",
    "\n",
    "df_tel['telephone'] = df_tel.apply(normalize_phone_number, args=(country_codes,), axis=1)\n",
    "df_tel"
   ]
  }
 ],
 "metadata": {
  "kernelspec": {
   "display_name": "virtualenv",
   "language": "python",
   "name": "virtualenv"
  },
  "language_info": {
   "codemirror_mode": {
    "name": "ipython",
    "version": 3
   },
   "file_extension": ".py",
   "mimetype": "text/x-python",
   "name": "python",
   "nbconvert_exporter": "python",
   "pygments_lexer": "ipython3",
   "version": "3.10.0"
  }
 },
 "nbformat": 4,
 "nbformat_minor": 5
}
